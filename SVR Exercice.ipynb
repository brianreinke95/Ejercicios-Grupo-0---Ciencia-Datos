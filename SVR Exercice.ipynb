{
 "cells": [
  {
   "cell_type": "markdown",
   "metadata": {},
   "source": [
    "# Imports"
   ]
  },
  {
   "cell_type": "code",
   "execution_count": 1,
   "metadata": {},
   "outputs": [
    {
     "name": "stderr",
     "output_type": "stream",
     "text": [
      "C:\\Users\\brian\\AppData\\Roaming\\Python\\Python37\\site-packages\\statsmodels\\tools\\_testing.py:19: FutureWarning: pandas.util.testing is deprecated. Use the functions in the public API at pandas.testing instead.\n",
      "  import pandas.util.testing as tm\n"
     ]
    }
   ],
   "source": [
    "import numpy as np\n",
    "import pandas as pd\n",
    "import matplotlib.pyplot as plt\n",
    "import seaborn as sns\n",
    "from IPython.display import Image\n",
    "\n",
    "from sklearn import preprocessing\n",
    "from sklearn.model_selection import train_test_split\n",
    "from sklearn.linear_model import LinearRegression\n",
    "from sklearn.svm import SVR\n",
    "from sklearn.svm import LinearSVR\n",
    "from sklearn.neighbors import KNeighborsRegressor\n",
    "from sklearn.metrics import r2_score, mean_squared_error, mean_absolute_error\n",
    "\n",
    "from sklearn.model_selection import GridSearchCV"
   ]
  },
  {
   "cell_type": "markdown",
   "metadata": {},
   "source": [
    "# Importo dataset de Airbnb \n",
    "Desde Airbnb obtenemos el siguiente dataset para entrenar nuestros modelos de regresion http://insideairbnb.com/get-the-data.html (dataset \"listings.csv\" de London). \n",
    "\n",
    "Objetivo: Vamos a querer predecir el precio dadas ciertas features."
   ]
  },
  {
   "cell_type": "code",
   "execution_count": 2,
   "metadata": {},
   "outputs": [],
   "source": [
    "# importo el dataset de Airbnb London, lo guardamos en el dataframe \"london\".\n",
    "path_to_csv = r'clusterai_regresion_dataset_airbnb_london.csv'\n",
    "london = pd.read_csv(path_to_csv, delimiter=',', parse_dates = True)"
   ]
  },
  {
   "cell_type": "markdown",
   "metadata": {},
   "source": [
    "# Data cleaning"
   ]
  },
  {
   "cell_type": "code",
   "execution_count": 3,
   "metadata": {},
   "outputs": [],
   "source": [
    "# elimino las rows que tienen NaNs en la columna \"reviews_per_month\" , que otras opciones existen?\n",
    "london = london.dropna(subset = [\"reviews_per_month\"])\n",
    "london = london.drop(['id', 'name', 'host_id', 'host_name',\n",
    "                      'neighbourhood_group', 'last_review', 'latitude', 'longitude'], axis=1)\n",
    "\n",
    "# Outlier Filtering.\n",
    "price_q97 = london.price.quantile(0.975)\n",
    "min_nights_q97 = london.minimum_nights.quantile(0.975)\n",
    "london_filt = london.loc[(london.price < price_q97) & (london.minimum_nights < min_nights_q97)]"
   ]
  },
  {
   "cell_type": "markdown",
   "metadata": {},
   "source": [
    "## Feature Engineering: \n",
    "\n",
    "### Se generan variables dummies para las features categoricas (Neighbourhood y Room Type)"
   ]
  },
  {
   "cell_type": "code",
   "execution_count": 4,
   "metadata": {},
   "outputs": [],
   "source": [
    "# dummies para la feature \"neighbourhood\"\n",
    "neighs_dummie = pd.get_dummies(london_filt.neighbourhood)\n",
    "room_dummie = pd.get_dummies(london_filt.room_type)"
   ]
  },
  {
   "cell_type": "markdown",
   "metadata": {},
   "source": [
    "## Se agregan las nuevas variables dummies creadas al dataframe de trabajo 'london_filt'"
   ]
  },
  {
   "cell_type": "code",
   "execution_count": 5,
   "metadata": {},
   "outputs": [],
   "source": [
    "london_filt = london_filt.join([neighs_dummie, room_dummie])"
   ]
  },
  {
   "cell_type": "markdown",
   "metadata": {},
   "source": [
    "## Preparación de variables para el modelado:"
   ]
  },
  {
   "cell_type": "code",
   "execution_count": 6,
   "metadata": {},
   "outputs": [],
   "source": [
    "# Creación de variable dependiente (label - etiqueta) y\n",
    "y = np.array(london_filt[[\"price\"]])\n",
    "# Creación de variable independiente X\n",
    "x = london_filt.drop(['price', 'neighbourhood','room_type'], axis=1)\n",
    "#División de dataset\n",
    "xtrain, xtest, ytrain, ytest = train_test_split(x, y, test_size=0.90, random_state=42)\n",
    "\n",
    "# Escalado\n",
    "scaler = preprocessing.StandardScaler().fit(xtrain)\n",
    "xtrain_scal = scaler.transform(xtrain)  \n",
    "xtest_scal = scaler.transform(xtest)  "
   ]
  },
  {
   "cell_type": "markdown",
   "metadata": {},
   "source": [
    "# Modelado: Support Vector Regression"
   ]
  },
  {
   "cell_type": "code",
   "execution_count": 12,
   "metadata": {},
   "outputs": [],
   "source": [
    "est = SVR(max_iter=35000)\n",
    "parameters = {'C' : [1, 100, 300],\n",
    "              'kernel':['rbf'],\n",
    "             'gamma':[0.1, 0.5]}\n",
    "n_folds = 5\n",
    "gs = GridSearchCV(est, param_grid=parameters,refit=True,\n",
    "                  cv=n_folds, scoring=\"neg_mean_squared_error\",\n",
    "                  verbose=3, n_jobs=3)"
   ]
  },
  {
   "cell_type": "code",
   "execution_count": 13,
   "metadata": {},
   "outputs": [
    {
     "name": "stdout",
     "output_type": "stream",
     "text": [
      "Fitting 5 folds for each of 6 candidates, totalling 30 fits\n"
     ]
    },
    {
     "name": "stderr",
     "output_type": "stream",
     "text": [
      "[Parallel(n_jobs=3)]: Using backend LokyBackend with 3 concurrent workers.\n",
      "[Parallel(n_jobs=3)]: Done  30 out of  30 | elapsed:  1.1min finished\n"
     ]
    },
    {
     "data": {
      "text/plain": [
       "GridSearchCV(cv=5, estimator=SVR(max_iter=35000), n_jobs=3,\n",
       "             param_grid={'C': [1, 100, 300], 'gamma': [0.1, 0.5],\n",
       "                         'kernel': ['rbf']},\n",
       "             scoring='neg_mean_squared_error', verbose=3)"
      ]
     },
     "execution_count": 13,
     "metadata": {},
     "output_type": "execute_result"
    }
   ],
   "source": [
    "gs.fit(xtrain_scal, ytrain.ravel())"
   ]
  },
  {
   "cell_type": "code",
   "execution_count": 14,
   "metadata": {},
   "outputs": [
    {
     "data": {
      "text/plain": [
       "{'C': 100, 'gamma': 0.1, 'kernel': 'rbf'}"
      ]
     },
     "execution_count": 14,
     "metadata": {},
     "output_type": "execute_result"
    }
   ],
   "source": [
    "gs.best_params_"
   ]
  },
  {
   "cell_type": "code",
   "execution_count": 15,
   "metadata": {},
   "outputs": [],
   "source": [
    "svr_prediction = gs.best_estimator_.predict(xtest_scal)\n",
    "svr_r2 = r2_score(y_true=ytest, y_pred=svr_prediction)\n",
    "svr_mse = mean_squared_error(y_true=ytest, y_pred=svr_prediction)\n",
    "svr_mae = mean_absolute_error(y_true=ytest, y_pred=svr_prediction)"
   ]
  },
  {
   "cell_type": "code",
   "execution_count": 16,
   "metadata": {},
   "outputs": [
    {
     "name": "stdout",
     "output_type": "stream",
     "text": [
      "R2 score: 0.479678\n",
      "MSE: 1629.680183\n",
      "MAE: 27.193622\n"
     ]
    }
   ],
   "source": [
    "print(f'R2 score: {svr_r2:.6f}')\n",
    "print(f'MSE: {svr_mse:.6f}')\n",
    "print(f'MAE: {svr_mae:.6f}')"
   ]
  }
 ],
 "metadata": {
  "kernelspec": {
   "display_name": "Python 3",
   "language": "python",
   "name": "python3"
  },
  "language_info": {
   "codemirror_mode": {
    "name": "ipython",
    "version": 3
   },
   "file_extension": ".py",
   "mimetype": "text/x-python",
   "name": "python",
   "nbconvert_exporter": "python",
   "pygments_lexer": "ipython3",
   "version": "3.7.1"
  },
  "toc": {
   "base_numbering": 1,
   "nav_menu": {},
   "number_sections": false,
   "sideBar": true,
   "skip_h1_title": false,
   "title_cell": "Table of Contents",
   "title_sidebar": "Contents",
   "toc_cell": false,
   "toc_position": {},
   "toc_section_display": true,
   "toc_window_display": false
  }
 },
 "nbformat": 4,
 "nbformat_minor": 2
}
